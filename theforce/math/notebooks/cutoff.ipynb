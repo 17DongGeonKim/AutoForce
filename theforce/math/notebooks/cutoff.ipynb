{
 "cells": [
  {
   "cell_type": "code",
   "execution_count": null,
   "metadata": {},
   "outputs": [],
   "source": [
    "import torch\n",
    "from torch.nn import Module\n",
    "\n",
    "\n",
    "class PairCut(Module):\n",
    "\n",
    "    def __init__(self, cutoff):\n",
    "        super().__init__()\n",
    "        self.rc = cutoff\n",
    "\n",
    "    @property\n",
    "    def state_args(self):\n",
    "        return '{}'.format(self.rc)\n",
    "\n",
    "    @property\n",
    "    def state(self):\n",
    "        return self.__class__.__name__+'({})'.format(self.state_args)\n",
    "\n",
    "    def forward(self, d):\n",
    "        step = torch.where(d < self.rc, torch.ones_like(d),\n",
    "                           torch.zeros_like(d))\n",
    "        f, g = self.func_and_grad(d)\n",
    "        return step*f, step*g\n",
    "\n",
    "    def func_and_grad(self, d):\n",
    "        raise NotImplementedError('func_and_grad')\n",
    "\n",
    "\n",
    "class PolyCut(PairCut):\n",
    "\n",
    "    def __init__(self, cutoff, n=2):\n",
    "        super().__init__(cutoff)\n",
    "        self.n = n\n",
    "\n",
    "    def func_and_grad(self, d):\n",
    "        return (1.-d/self.rc)**self.n, -self.n*(1.-d/self.rc)**(self.n-1)/self.rc\n",
    "\n",
    "    @property\n",
    "    def state_args(self):\n",
    "        return super().state_args + ', n={}'.format(self.n)\n",
    "\n",
    "\n",
    "def test():\n",
    "    cut = PolyCut(0.5)\n",
    "    d = torch.rand(10, 1)\n",
    "    r, dr = cut(d)\n",
    "\n",
    "\n",
    "if __name__ == '__main__':\n",
    "    test()"
   ]
  }
 ],
 "metadata": {
  "kernelspec": {
   "display_name": "Python 3",
   "language": "python",
   "name": "python3"
  },
  "language_info": {
   "codemirror_mode": {
    "name": "ipython",
    "version": 3
   },
   "file_extension": ".py",
   "mimetype": "text/x-python",
   "name": "python",
   "nbconvert_exporter": "python",
   "pygments_lexer": "ipython3",
   "version": "3.6.7"
  }
 },
 "nbformat": 4,
 "nbformat_minor": 2
}
