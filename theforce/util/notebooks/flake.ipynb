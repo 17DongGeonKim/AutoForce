{
 "cells": [
  {
   "cell_type": "code",
   "execution_count": 1,
   "metadata": {
    "ExecuteTime": {
     "end_time": "2019-03-27T03:21:02.925561Z",
     "start_time": "2019-03-27T03:21:02.873114Z"
    }
   },
   "outputs": [],
   "source": [
    "import numpy as np\n",
    "\n",
    "\n",
    "# ------------------------------------------ potentials\n",
    "def lennard_jones(xyz, sigma=1.0):\n",
    "    r = np.sqrt((xyz**2).sum(axis=1)) / sigma\n",
    "    pot = 4*(1/r**12 - 1/r**6).sum()\n",
    "    forces_on_environ = 4*(12/r**14-6/r**8)[:, None] * xyz/sigma\n",
    "    force_on_center = -forces_on_environ.sum(axis=0)\n",
    "    return pot/2, force_on_center\n",
    "\n",
    "\n",
    "# ------------------------------------------ flakes\n",
    "def cubic_flake(a=1.0, centre=False):\n",
    "    if centre:\n",
    "        trans = [[0, 0, 0]]\n",
    "    else:\n",
    "        trans = []\n",
    "    trans += [[1, 0, 0],\n",
    "              [0, 1, 0],\n",
    "              [0, 0, 1],\n",
    "              [-1, 0, 0],\n",
    "              [0, -1, 0],\n",
    "              [0, 0, -1]]\n",
    "    atoms = np.array(trans) * a\n",
    "    return atoms\n",
    "\n",
    "\n",
    "def hexagonal_flake(a=1.0, centre=False):\n",
    "    c = a * np.sqrt(2/3)\n",
    "    cell = np.array([[a, 0, 0],\n",
    "                     [a/2, a*np.sqrt(3)/2, 0],\n",
    "                     [0, 0, c]])\n",
    "    if centre:\n",
    "        trans = [[0, 0, 0]]\n",
    "    else:\n",
    "        trans = []\n",
    "    trans += [[1, 0, 0], [0, 1, 0], [-1, 1, 0], [-1, 0, 0], [0, -1, 0], [1, -1, 0],\n",
    "              [1./3, 1./3, 1], [-2./3, 1./3, 1], [1./3, -2./3, 1],\n",
    "              [1./3, 1./3, -1], [-2./3, 1./3, -1], [1./3, -2./3, -1]]\n",
    "    t = np.array(trans)\n",
    "    atoms = np.einsum('ij,jk->ik', t, cell)\n",
    "    return atoms\n",
    "\n",
    "\n",
    "# ------------------------------------------ data generators\n",
    "def from_flake(flake, num, eps, potential=lennard_jones):\n",
    "    \"\"\" eps is a random distortion \"\"\"\n",
    "    xyz = np.stack([flake + np.random.uniform(-eps, eps, size=flake.shape)\n",
    "                    for _ in range(num)])\n",
    "    energies, forces = (np.stack(a) for a in\n",
    "                        zip(*[potential(c) for c in xyz]))\n",
    "    return xyz, energies, forces\n",
    "\n",
    "\n",
    "# ------------------------------------------ visualization\n",
    "def show_flake(xyz, rc=3, d=0.2,  batch=True):\n",
    "    if batch:\n",
    "        _xyz = xyz\n",
    "    else:\n",
    "        _xyz = [xyz]\n",
    "    D = rc * d\n",
    "    # %gui qt\n",
    "    from mayavi import mlab\n",
    "    for a in _xyz:\n",
    "        r = np.sqrt((a**2).sum(axis=-1))\n",
    "        s = np.ones_like(r) * D\n",
    "        mlab.points3d(*a.T, s, scale_factor=1)\n",
    "        #  center and cutoff\n",
    "        #mlab.points3d(0, 0, 0, D, color=(0, 0, 0), scale_factor=1)\n",
    "        mlab.points3d(0, 0, 0, extent=[-rc, rc, -rc, rc, -rc, rc],\n",
    "                      opacity=0.1, resolution=80)\n",
    "        mlab.show()\n",
    "\n",
    "\n",
    "# ------------------------------------------ end\n",
    "if __name__ == '__main__':\n",
    "\n",
    "    xyz = hexagonal_flake()\n",
    "    xyz, energies, forces = from_flake(xyz, 3, eps=0.1)\n",
    "    show_flake(xyz, rc=1.5, d=0.3)\n",
    "\n",
    "    xyz = cubic_flake()\n",
    "    xyz, energies, forces = from_flake(xyz, 3, eps=0.1)\n",
    "    show_flake(xyz, rc=1.5, d=0.3)"
   ]
  }
 ],
 "metadata": {
  "kernelspec": {
   "display_name": "Python 3",
   "language": "python",
   "name": "python3"
  },
  "language_info": {
   "codemirror_mode": {
    "name": "ipython",
    "version": 3
   },
   "file_extension": ".py",
   "mimetype": "text/x-python",
   "name": "python",
   "nbconvert_exporter": "python",
   "pygments_lexer": "ipython3",
   "version": "3.6.7"
  },
  "varInspector": {
   "cols": {
    "lenName": 16,
    "lenType": 16,
    "lenVar": 40
   },
   "kernels_config": {
    "python": {
     "delete_cmd_postfix": "",
     "delete_cmd_prefix": "del ",
     "library": "var_list.py",
     "varRefreshCmd": "print(var_dic_list())"
    },
    "r": {
     "delete_cmd_postfix": ") ",
     "delete_cmd_prefix": "rm(",
     "library": "var_list.r",
     "varRefreshCmd": "cat(var_dic_list()) "
    }
   },
   "types_to_exclude": [
    "module",
    "function",
    "builtin_function_or_method",
    "instance",
    "_Feature"
   ],
   "window_display": false
  }
 },
 "nbformat": 4,
 "nbformat_minor": 2
}
