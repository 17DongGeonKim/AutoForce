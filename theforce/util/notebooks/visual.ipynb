{
 "cells": [
  {
   "cell_type": "code",
   "execution_count": null,
   "metadata": {},
   "outputs": [],
   "source": [
    "import nglview\n",
    "from ase.io import read\n",
    "\n",
    "\n",
    "def show_trajectory(traj, radiusScale=0.3, remove_ball_and_stick=False):\n",
    "    if type(traj) == str:\n",
    "        data = read(traj, ':')\n",
    "    else:\n",
    "        data = traj\n",
    "    view = nglview.show_asetraj(data)\n",
    "    view.add_unitcell()\n",
    "    view.add_spacefill()\n",
    "    if remove_ball_and_stick:\n",
    "        view.remove_ball_and_stick()\n",
    "    view.camera = 'orthographic'\n",
    "    view.parameters = {\"clipDist\": 0}\n",
    "    view.center()\n",
    "    view.update_spacefill(radiusType='covalent',\n",
    "                          radiusScale=radiusScale,\n",
    "                          color_scale='rainbow')\n",
    "    return view"
   ]
  }
 ],
 "metadata": {
  "kernelspec": {
   "display_name": "Python 3",
   "language": "python",
   "name": "python3"
  },
  "language_info": {
   "codemirror_mode": {
    "name": "ipython",
    "version": 3
   },
   "file_extension": ".py",
   "mimetype": "text/x-python",
   "name": "python",
   "nbconvert_exporter": "python",
   "pygments_lexer": "ipython3",
   "version": "3.7.4"
  }
 },
 "nbformat": 4,
 "nbformat_minor": 2
}
