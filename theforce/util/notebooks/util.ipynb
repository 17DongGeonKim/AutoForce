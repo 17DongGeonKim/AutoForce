{
 "cells": [
  {
   "cell_type": "code",
   "execution_count": null,
   "metadata": {},
   "outputs": [],
   "source": [
    "import re\n",
    "import datetime\n",
    "import os\n",
    "\n",
    "\n",
    "def iterable(a, ignore=None):\n",
    "    if a.__class__ != ignore and hasattr(a, '__iter__'):\n",
    "        return a\n",
    "    else:\n",
    "        return (a, )\n",
    "\n",
    "\n",
    "def one_liner(x):\n",
    "    return re.sub(' +', ' ', str(x).replace('\\n', ''))\n",
    "\n",
    "\n",
    "def date(fmt=\"%m/%d/%Y %H:%M:%S\"):\n",
    "    return datetime.datetime.now().strftime(fmt)\n",
    "\n",
    "\n",
    "def mkdir_p(path):\n",
    "    try:\n",
    "        os.makedirs(path)\n",
    "    except FileExistsError:\n",
    "        pass"
   ]
  }
 ],
 "metadata": {
  "kernelspec": {
   "display_name": "Python 3",
   "language": "python",
   "name": "python3"
  },
  "language_info": {
   "codemirror_mode": {
    "name": "ipython",
    "version": 3
   },
   "file_extension": ".py",
   "mimetype": "text/x-python",
   "name": "python",
   "nbconvert_exporter": "python",
   "pygments_lexer": "ipython3",
   "version": "3.7.4"
  }
 },
 "nbformat": 4,
 "nbformat_minor": 2
}
