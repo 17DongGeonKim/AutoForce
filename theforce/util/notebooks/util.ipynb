{
 "cells": [
  {
   "cell_type": "code",
   "execution_count": null,
   "metadata": {},
   "outputs": [],
   "source": [
    "import re\n",
    "import datetime\n",
    "import os\n",
    "import psutil\n",
    "\n",
    "\n",
    "def iterable(a, ignore=None):\n",
    "    if a.__class__ != ignore and hasattr(a, '__iter__'):\n",
    "        return a\n",
    "    else:\n",
    "        return (a, )\n",
    "\n",
    "\n",
    "def one_liner(x):\n",
    "    return re.sub(' +', ' ', str(x).replace('\\n', ''))\n",
    "\n",
    "\n",
    "def date(fmt=\"%m/%d/%Y %H:%M:%S\"):\n",
    "    return datetime.datetime.now().strftime(fmt)\n",
    "\n",
    "\n",
    "def timestamp(string=None, fmt=\"%m/%d/%Y %H:%M:%S\"):\n",
    "    if string is not None:\n",
    "        d = datetime.datetime.strptime(string, fmt)\n",
    "    else:\n",
    "        d = datetime.datetime.now()\n",
    "    return d.timestamp()\n",
    "\n",
    "\n",
    "def mkdir_p(path):\n",
    "    try:\n",
    "        os.makedirs(path)\n",
    "    except FileExistsError:\n",
    "        pass\n",
    "\n",
    "\n",
    "def safe_dirname(d, append='x'):\n",
    "    dd = d\n",
    "    if dd.endswith('/'):\n",
    "        dd = dd[:-1]\n",
    "    while os.path.isdir(dd):\n",
    "        dd += append\n",
    "    return dd\n",
    "\n",
    "\n",
    "def meminfo():\n",
    "    return os.getpid(), psutil.Process(os.getpid()).memory_info().rss"
   ]
  }
 ],
 "metadata": {
  "kernelspec": {
   "display_name": "Python 3",
   "language": "python",
   "name": "python3"
  },
  "language_info": {
   "codemirror_mode": {
    "name": "ipython",
    "version": 3
   },
   "file_extension": ".py",
   "mimetype": "text/x-python",
   "name": "python",
   "nbconvert_exporter": "python",
   "pygments_lexer": "ipython3",
   "version": "3.7.4"
  }
 },
 "nbformat": 4,
 "nbformat_minor": 2
}
