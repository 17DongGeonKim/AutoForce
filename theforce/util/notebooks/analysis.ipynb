{
 "cells": [
  {
   "cell_type": "code",
   "execution_count": null,
   "metadata": {},
   "outputs": [],
   "source": [
    "import numpy as np\n",
    "from ase.io import read\n",
    "\n",
    "\n",
    "def mean_squared_displacement(traj, start=0, stop=-1, step=1, origin=None, numbers=None):\n",
    "    if not origin:\n",
    "        origin = start\n",
    "    atoms = read(traj, origin)\n",
    "    xyz0 = atoms.get_positions()\n",
    "    if numbers is None:\n",
    "        numbers = np.unique(atoms.numbers)\n",
    "    sl = '{}:{}:{}'.format(start, stop, step)\n",
    "    xyz = np.stack([atoms.get_positions() for atoms in read(traj, sl)])\n",
    "    D = ((xyz - xyz0)**2).sum(axis=-1)\n",
    "    msd = [(D[:, atoms.numbers == number]).mean(axis=1) for number in numbers]\n",
    "    return numbers, msd"
   ]
  }
 ],
 "metadata": {
  "kernelspec": {
   "display_name": "Python 3",
   "language": "python",
   "name": "python3"
  },
  "language_info": {
   "codemirror_mode": {
    "name": "ipython",
    "version": 3
   },
   "file_extension": ".py",
   "mimetype": "text/x-python",
   "name": "python",
   "nbconvert_exporter": "python",
   "pygments_lexer": "ipython3",
   "version": "3.7.4"
  }
 },
 "nbformat": 4,
 "nbformat_minor": 2
}
