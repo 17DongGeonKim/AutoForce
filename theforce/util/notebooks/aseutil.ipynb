{
 "cells": [
  {
   "cell_type": "code",
   "execution_count": null,
   "metadata": {},
   "outputs": [],
   "source": [
    "from ase.io import Trajectory\n",
    "\n",
    "\n",
    "def downsize_traj(file, l, outfile):\n",
    "    t = Trajectory(file)\n",
    "    tt = Trajectory(outfile, 'w')\n",
    "    for k, atoms in enumerate(t):\n",
    "        if k == l:\n",
    "            break\n",
    "        tt.write(atoms)"
   ]
  }
 ],
 "metadata": {
  "kernelspec": {
   "display_name": "Python 3",
   "language": "python",
   "name": "python3"
  },
  "language_info": {
   "codemirror_mode": {
    "name": "ipython",
    "version": 3
   },
   "file_extension": ".py",
   "mimetype": "text/x-python",
   "name": "python",
   "nbconvert_exporter": "python",
   "pygments_lexer": "ipython3",
   "version": "3.7.4"
  }
 },
 "nbformat": 4,
 "nbformat_minor": 2
}
