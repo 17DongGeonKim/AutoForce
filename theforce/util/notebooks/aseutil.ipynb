{
 "cells": [
  {
   "cell_type": "code",
   "execution_count": null,
   "metadata": {},
   "outputs": [],
   "source": [
    "from theforce.util.statsutil import moving_average\n",
    "from ase.io import read\n",
    "import numpy as np\n",
    "from ase.io import Trajectory\n",
    "\n",
    "\n",
    "def downsize_traj(file, l, outfile):\n",
    "    t = Trajectory(file)\n",
    "    tt = Trajectory(outfile, 'w')\n",
    "    for k, atoms in enumerate(t):\n",
    "        if k == l:\n",
    "            break\n",
    "        tt.write(atoms)\n",
    "\n",
    "\n",
    "def write_average_positions(traj, w, sl='::', out=None):\n",
    "    refatoms = read(traj, 0)\n",
    "    positions = moving_average(\n",
    "        np.stack([atoms.positions for atoms in read(traj, sl)]), w)\n",
    "    cell = moving_average(\n",
    "        np.stack([atoms.cell for atoms in read(traj, sl)]), w)\n",
    "    if out is None:\n",
    "        if traj.endswith('.traj'):\n",
    "            out = traj.replace('.traj', '_ave.traj')\n",
    "        else:\n",
    "            raise RuntimeError('file does not end with .traj')\n",
    "    t = Trajectory(out, 'w')\n",
    "    for p, c in zip(*[positions, cell]):\n",
    "        refatoms.set_positions(p)\n",
    "        refatoms.set_cell(c)\n",
    "        t.write(refatoms)\n",
    "    print(f'average positions are written to {out}')\n",
    "\n",
    "\n",
    "def make_cell_upper_triangular(atms):\n",
    "    d = atms.get_all_distances()\n",
    "    v = atms.get_volume()\n",
    "    atms.rotate(atms.cell[2], v='z', rotate_cell=True)\n",
    "    atms.rotate([*atms.cell[1][:2], 0], v='y', rotate_cell=True)\n",
    "    dd = atms.get_all_distances()\n",
    "    vv = atms.get_volume()\n",
    "    assert np.allclose(d, dd)\n",
    "    assert np.allclose(v, vv)\n",
    "    assert np.allclose(atms.cell.flat[[3, 6, 7]], 0)\n",
    "    atms.cell.flat[[3, 6, 7]] = 0"
   ]
  }
 ],
 "metadata": {
  "kernelspec": {
   "display_name": "Python 3",
   "language": "python",
   "name": "python3"
  },
  "language_info": {
   "codemirror_mode": {
    "name": "ipython",
    "version": 3
   },
   "file_extension": ".py",
   "mimetype": "text/x-python",
   "name": "python",
   "nbconvert_exporter": "python",
   "pygments_lexer": "ipython3",
   "version": "3.7.4"
  }
 },
 "nbformat": 4,
 "nbformat_minor": 2
}
