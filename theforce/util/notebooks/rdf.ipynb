{
 "cells": [
  {
   "cell_type": "code",
   "execution_count": null,
   "metadata": {},
   "outputs": [],
   "source": [
    "from math import pi\n",
    "import torch\n",
    "\n",
    "\n",
    "def rdf(data, rmax, bins=100, rmin=0.):\n",
    "    binargs = dict(bins=bins, min=rmin, max=rmax)\n",
    "    numbers = data.numbers_set()\n",
    "    pairs = data.pairs_set(numbers)\n",
    "    density = {number: 0 for number in numbers}\n",
    "    hist = {pair: torch.histc(torch.empty(0), **binargs) for pair in pairs}\n",
    "    count = {pair: 0 for pair in pairs}\n",
    "\n",
    "    snaps = 0\n",
    "    for atoms in data:\n",
    "        snaps += 1\n",
    "\n",
    "        # densities\n",
    "        nums, freq = atoms.tnumbers.unique(return_counts=True)\n",
    "        for n, f in zip(*[nums.tolist(), freq.tolist()]):\n",
    "            density[n] += f/atoms.get_volume()\n",
    "\n",
    "        # distances\n",
    "        atoms.update(cutoff=rmax)\n",
    "        for pair in pairs:\n",
    "            for loc, atomic in zip(*[atoms, atoms.numbers]):\n",
    "                if atomic != pair[0]:\n",
    "                    continue\n",
    "                loc.select(*pair, bothways=True)\n",
    "                count[pair] += 1\n",
    "                hist[pair] += torch.histc(loc.r.pow(2).sum(dim=-1).sqrt(),\n",
    "                                          **binargs)\n",
    "    for number in numbers:\n",
    "        density[number] /= snaps\n",
    "\n",
    "    r = torch.linspace(rmin, rmax, bins)\n",
    "    dr = r[1]-r[0]\n",
    "    g = {pair: hist[pair]/(count[pair]*4*pi*r**2*dr*density[pair[1]])\n",
    "         for pair in pairs}\n",
    "\n",
    "    return r, g"
   ]
  }
 ],
 "metadata": {
  "kernelspec": {
   "display_name": "Python 3",
   "language": "python",
   "name": "python3"
  },
  "language_info": {
   "codemirror_mode": {
    "name": "ipython",
    "version": 3
   },
   "file_extension": ".py",
   "mimetype": "text/x-python",
   "name": "python",
   "nbconvert_exporter": "python",
   "pygments_lexer": "ipython3",
   "version": "3.7.4"
  }
 },
 "nbformat": 4,
 "nbformat_minor": 2
}
