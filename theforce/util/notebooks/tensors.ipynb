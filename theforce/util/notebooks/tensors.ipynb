{
 "cells": [
  {
   "cell_type": "code",
   "execution_count": null,
   "metadata": {},
   "outputs": [],
   "source": [
    "import torch\n",
    "\n",
    "\n",
    "def cat(tensors, dim=0):\n",
    "    lengths = [tensor.size(dim) for tensor in tensors]\n",
    "    cat = torch.cat(tensors, dim=dim)\n",
    "    spec = torch.LongTensor(lengths + [dim])\n",
    "    return cat, spec\n",
    "\n",
    "\n",
    "def split(tensor, spec):\n",
    "    return torch.split(tensor, spec[:-1].tolist(), spec[-1])\n",
    "\n",
    "\n",
    "# -------------------------------------------------------------\n",
    "def test():\n",
    "    # cat and split\n",
    "    a = torch.rand(10, 7, 3)\n",
    "    b = torch.rand(10, 8, 3)\n",
    "    c = torch.rand(10, 9, 3)\n",
    "    t, spec = cat([a, b, c], 1)\n",
    "    print([a.shape for a in split(t, spec)])\n",
    "\n",
    "\n",
    "if __name__ == '__main__':\n",
    "    test()"
   ]
  }
 ],
 "metadata": {
  "kernelspec": {
   "display_name": "Python 3",
   "language": "python",
   "name": "python3"
  },
  "language_info": {
   "codemirror_mode": {
    "name": "ipython",
    "version": 3
   },
   "file_extension": ".py",
   "mimetype": "text/x-python",
   "name": "python",
   "nbconvert_exporter": "python",
   "pygments_lexer": "ipython3",
   "version": "3.6.7"
  }
 },
 "nbformat": 4,
 "nbformat_minor": 2
}
