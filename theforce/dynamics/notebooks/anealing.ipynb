{
 "cells": [
  {
   "cell_type": "code",
   "execution_count": null,
   "metadata": {},
   "outputs": [],
   "source": [
    "from ase.md.velocitydistribution import MaxwellBoltzmannDistribution, Stationary, ZeroRotation\n",
    "from ase.md.verlet import VelocityVerlet\n",
    "from ase import units\n",
    "from theforce.dynamics.leapfrog import Leapfrog\n",
    "from theforce.regression.gppotential import PosteriorPotentialFromFolder\n",
    "import numpy as np\n",
    "\n",
    "\n",
    "def learn_pes_by_anealing(atoms, gp, cutoff, calculator=None, model=None, dt=2., ediff=0.01, volatile=None,\n",
    "                          target_temperature=1000., stages=1, equilibration=5, rescale_velocities=1.05,\n",
    "                          algorithm='fast', name='model', overwrite=True, traj='anealing.traj',\n",
    "                          logfile='leapfrog.log'):\n",
    "    assert rescale_velocities > 1\n",
    "\n",
    "    if model is not None:\n",
    "        if type(model) == str:\n",
    "            model = PosteriorPotentialFromFolder(model)\n",
    "        if gp is None:\n",
    "            gp = model.gp\n",
    "\n",
    "    if atoms.get_velocities() is None:\n",
    "        t = target_temperature / stages\n",
    "        MaxwellBoltzmannDistribution(atoms, t*units.kB)\n",
    "        Stationary(atoms)\n",
    "        ZeroRotation(atoms)\n",
    "\n",
    "    dyn = VelocityVerlet(atoms, dt*units.fs, trajectory=traj)\n",
    "    dyn = Leapfrog(dyn, gp, cutoff, calculator=calculator, model=model,\n",
    "                   ediff=ediff, volatile=volatile, algorithm=algorithm, logfile=logfile)\n",
    "\n",
    "    # initial equilibration\n",
    "    while dyn.volatile():\n",
    "        _, e, t = dyn.run_updates(1)\n",
    "    _, e, t = dyn.run_updates(equilibration)\n",
    "\n",
    "    temperatures = np.linspace(t, target_temperature, stages+1)[1:]\n",
    "    heating = t < target_temperature\n",
    "    cooling = not heating\n",
    "    for k, target_t in enumerate(temperatures):\n",
    "        print('stage: {}, temperature: {}, target temperature: {}, ({})'.format(\n",
    "            k, t, target_t, 'heating' if heating else 'cooling'))\n",
    "        while (heating and t < target_t) or (cooling and t > target_t):\n",
    "            dyn.rescale_velocities(\n",
    "                rescale_velocities if heating else 1./rescale_velocities)\n",
    "            _, e, t = dyn.run_updates(equilibration)\n",
    "        if k == stages-1:\n",
    "            dyn.model.to_folder(name, info='temperature: {}'.format(t),\n",
    "                                overwrite=overwrite)\n",
    "        else:\n",
    "            dyn.model.to_folder('{}_{}'.format(name, k), info='temperature: {}'.format(t),\n",
    "                                overwrite=overwrite)\n",
    "    return dyn.get_atoms(), dyn.model"
   ]
  }
 ],
 "metadata": {
  "kernelspec": {
   "display_name": "Python 3",
   "language": "python",
   "name": "python3"
  },
  "language_info": {
   "codemirror_mode": {
    "name": "ipython",
    "version": 3
   },
   "file_extension": ".py",
   "mimetype": "text/x-python",
   "name": "python",
   "nbconvert_exporter": "python",
   "pygments_lexer": "ipython3",
   "version": "3.7.4"
  }
 },
 "nbformat": 4,
 "nbformat_minor": 2
}
