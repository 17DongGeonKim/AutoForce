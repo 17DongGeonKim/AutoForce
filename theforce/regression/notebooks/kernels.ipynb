{
 "cells": [
  {
   "cell_type": "code",
   "execution_count": null,
   "metadata": {},
   "outputs": [],
   "source": [
    "import torch\n",
    "from torch.nn import Module, Parameter\n",
    "from theforce.regression.algebra import positive, free_form\n",
    "\n",
    "\n",
    "class RBF(Module):\n",
    "    \"\"\"\n",
    "    Parameters: scale, variance\n",
    "    \"\"\"\n",
    "\n",
    "    def __init__(self, scale, variance):\n",
    "        super(RBF, self).__init__()\n",
    "        self._scale = Parameter(free_form(scale))\n",
    "        self._variance = Parameter(free_form(variance))\n",
    "\n",
    "    def cov_matrix(self, x, xx):\n",
    "        r = (x[:, None, ] - xx[None, ]) / positive(self._scale)\n",
    "        cov = (-(r**2).sum(dim=-1)/2).exp() * self.diag()\n",
    "        return cov\n",
    "\n",
    "    def diag(self):\n",
    "        return positive(self._variance)\n",
    "\n",
    "    def extra_repr(self):\n",
    "        print('RBF parameters: \\nscale: {}\\nvariance: {}'.format(\n",
    "            positive(self._scale).data, positive(self._variance).data))\n",
    "\n",
    "\n",
    "def test_if_works():\n",
    "    from theforce.regression.algebra import cholesky\n",
    "    variance = torch.tensor(1.0)\n",
    "    scale = torch.ones(7)\n",
    "    kern = RBF(scale, variance)\n",
    "    X = torch.rand(1000, 7)\n",
    "    K = kern.cov_matrix(X, X)\n",
    "    L, ridge = cholesky(K)\n",
    "    print('ridge for cholesky decomposition: {}\\n'.format(ridge))\n",
    "    print(kern)\n",
    "\n",
    "\n",
    "if __name__ == '__main__':\n",
    "    test_if_works()"
   ]
  }
 ],
 "metadata": {
  "kernelspec": {
   "display_name": "Python 3",
   "language": "python",
   "name": "python3"
  },
  "language_info": {
   "codemirror_mode": {
    "name": "ipython",
    "version": 3
   },
   "file_extension": ".py",
   "mimetype": "text/x-python",
   "name": "python",
   "nbconvert_exporter": "python",
   "pygments_lexer": "ipython3",
   "version": "3.6.7"
  }
 },
 "nbformat": 4,
 "nbformat_minor": 2
}
