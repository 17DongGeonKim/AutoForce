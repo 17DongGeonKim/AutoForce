{
 "cells": [
  {
   "cell_type": "code",
   "execution_count": 1,
   "metadata": {
    "ExecuteTime": {
     "end_time": "2019-03-25T09:16:43.688726Z",
     "start_time": "2019-03-25T09:16:37.005907Z"
    }
   },
   "outputs": [
    {
     "name": "stdout",
     "output_type": "stream",
     "text": [
      "tensor([[1., 0., 0.],\n",
      "        [0., 1., 0.],\n",
      "        [0., 0., 1.]], dtype=torch.float64)\n",
      "tensor([[ 1.0122,  0.1019, -0.0331],\n",
      "        [ 0.1019,  0.9943, -0.0663],\n",
      "        [-0.0331, -0.0663,  0.9953]], dtype=torch.float64,\n",
      "       grad_fn=<AsStridedBackward>)\n"
     ]
    }
   ],
   "source": [
    "import numpy as np\n",
    "from theforce.radial_funcs import quadratic_cutoff as radial\n",
    "from theforce.sesoap import SeSoap\n",
    "import torch\n",
    "from torch.autograd import Function\n",
    "\n",
    "\n",
    "lmax, nmax, rc = 4, 4, 3.\n",
    "NumpySoap = SeSoap(lmax, nmax, radial(rc))\n",
    "\n",
    "\n",
    "class TorchSoap(Function):\n",
    "\n",
    "    @staticmethod\n",
    "    def forward(ctx, xyz):\n",
    "        _p, _q = NumpySoap.derivatives(xyz.detach().numpy(), sumj=False)\n",
    "        p = torch.as_tensor(_p)\n",
    "        q = torch.as_tensor(_q)\n",
    "        ctx.save_for_backward(q)\n",
    "        return p\n",
    "\n",
    "    @staticmethod\n",
    "    def backward(ctx, grad_output):\n",
    "        q, = ctx.saved_tensors\n",
    "        grad = torch.einsum('i,i...->i...', grad_output, q)\n",
    "        return grad\n",
    "\n",
    "\n",
    "soap = TorchSoap.apply\n",
    "\n",
    "\n",
    "sym = np.array([[1, 0, 0], [0, 1, 0], [0, 0, 1.]])\n",
    "ref = torch.as_tensor(sym)\n",
    "pref = soap(ref)\n",
    "\n",
    "\n",
    "xyz = torch.rand(ref.size(), requires_grad=True, dtype=ref.dtype) # <- dtype only here\n",
    "optimizer = torch.optim.Adam([xyz], lr=0.1)\n",
    "training = []\n",
    "for i in range(100):\n",
    "    def closure():\n",
    "        global training\n",
    "        optimizer.zero_grad()\n",
    "        p = soap(xyz)\n",
    "        loss = ((p - pref)**2).sum() \n",
    "        loss.backward()\n",
    "        training += [loss.data]\n",
    "        return loss\n",
    "    optimizer.step(closure)\n",
    "    \n",
    "    \n",
    "print(torch.einsum('ij,kj->ik', ref, ref))\n",
    "print(torch.einsum('ij,kj->ik', xyz, xyz))"
   ]
  },
  {
   "cell_type": "code",
   "execution_count": 2,
   "metadata": {
    "ExecuteTime": {
     "end_time": "2019-03-25T09:16:45.439654Z",
     "start_time": "2019-03-25T09:16:43.691929Z"
    }
   },
   "outputs": [
    {
     "data": {
      "text/plain": [
       "[<matplotlib.lines.Line2D at 0x7f2d5083f860>]"
      ]
     },
     "execution_count": 2,
     "metadata": {},
     "output_type": "execute_result"
    },
    {
     "data": {
      "image/png": "[encoded data removed]",
      "text/plain": [
       "<Figure size 432x288 with 1 Axes>"
      ]
     },
     "metadata": {
      "needs_background": "light"
     },
     "output_type": "display_data"
    }
   ],
   "source": [
    "import pylab as plt\n",
    "%matplotlib inline\n",
    "plt.plot(training)"
   ]
  }
 ],
 "metadata": {
  "kernelspec": {
   "display_name": "Python 3",
   "language": "python",
   "name": "python3"
  },
  "language_info": {
   "codemirror_mode": {
    "name": "ipython",
    "version": 3
   },
   "file_extension": ".py",
   "mimetype": "text/x-python",
   "name": "python",
   "nbconvert_exporter": "python",
   "pygments_lexer": "ipython3",
   "version": "3.6.7"
  },
  "varInspector": {
   "cols": {
    "lenName": 16,
    "lenType": 16,
    "lenVar": 40
   },
   "kernels_config": {
    "python": {
     "delete_cmd_postfix": "",
     "delete_cmd_prefix": "del ",
     "library": "var_list.py",
     "varRefreshCmd": "print(var_dic_list())"
    },
    "r": {
     "delete_cmd_postfix": ") ",
     "delete_cmd_prefix": "rm(",
     "library": "var_list.r",
     "varRefreshCmd": "cat(var_dic_list()) "
    }
   },
   "types_to_exclude": [
    "module",
    "function",
    "builtin_function_or_method",
    "instance",
    "_Feature"
   ],
   "window_display": false
  }
 },
 "nbformat": 4,
 "nbformat_minor": 2
}
