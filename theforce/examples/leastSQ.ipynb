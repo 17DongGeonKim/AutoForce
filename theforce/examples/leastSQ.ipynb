{
 "cells": [
  {
   "cell_type": "code",
   "execution_count": 1,
   "metadata": {
    "ExecuteTime": {
     "end_time": "2019-03-26T07:40:24.330304Z",
     "start_time": "2019-03-26T07:40:24.096298Z"
    }
   },
   "outputs": [],
   "source": [
    "import torch\n",
    "from torch.nn import Module, Parameter\n",
    "from torch.autograd import Function\n",
    "from theforce.radial_funcs import quadratic_cutoff as radial\n",
    "from theforce.sesoap import SeSoap\n",
    "\n",
    "\n",
    "def NumpySoap(cart, sumj=False):\n",
    "    \"\"\" \n",
    "    cart is np.ndarray class but the output will be \n",
    "    its descriptor with torch.tensor class\n",
    "    \"\"\"\n",
    "    return (torch.as_tensor(a) for a in\n",
    "            zip(*[__soap__.derivatives(xyz, sumj=sumj) for xyz in cart]))\n",
    "\n",
    "\n",
    "class _TorchSoap(Function):\n",
    "\n",
    "    @staticmethod\n",
    "    def forward(ctx, cart):\n",
    "        p, q = NumpySoap(cart.detach().numpy())\n",
    "        ctx.save_for_backward(q)\n",
    "        return p\n",
    "\n",
    "    @staticmethod\n",
    "    def backward(ctx, grad_output):\n",
    "        q, = ctx.saved_tensors\n",
    "        grad = torch.einsum('ij,ij...->i...', grad_output, q)\n",
    "        return grad\n",
    "\n",
    "\n",
    "TorchSoap = _TorchSoap.apply\n",
    "\n",
    "\n",
    "class LeastSQ(Module):\n",
    "\n",
    "    def __init__(self, cart, soap, num_inducing):\n",
    "        super(LeastSQ, self).__init__()\n",
    "\n",
    "        global __soap__\n",
    "        __soap__ = soap\n",
    "\n",
    "        self.X, _ = NumpySoap(cart, sumj=True)\n",
    "\n",
    "        # parameters\n",
    "        self.n, self.m = self.X.size()[0], num_inducing\n",
    "        _Z = cart[torch.randint(self.n, (num_inducing,))]\n",
    "        if num_inducing==1: _Z = [_Z]\n",
    "        self._Z = Parameter(torch.as_tensor(_Z))\n",
    "        \n",
    "\n",
    "    def forward(self):\n",
    "        Z = TorchSoap(self._Z)\n",
    "        loss = ((Z[:, None,] - self.X[None,])**2).sum()\n",
    "        return loss"
   ]
  },
  {
   "cell_type": "code",
   "execution_count": 2,
   "metadata": {
    "ExecuteTime": {
     "end_time": "2019-03-26T07:40:24.564303Z",
     "start_time": "2019-03-26T07:40:24.331917Z"
    }
   },
   "outputs": [],
   "source": [
    "def _data(num_envs, rc, eps=0.05):\n",
    "    import numpy as np\n",
    "    sym = np.array([[1, 0, 0], [-1, 0, 0], [0, 1, 0], [0, -1, 0],\n",
    "                    [0, 0, 1], [0, 0, -1]], dtype=np.float64)*rc/2\n",
    "    #sym = np.array([[1, 0, 0], [0, 1, 0], [0, 0, 1]], dtype=np.float64)*rc/2\n",
    "    xyz = np.stack([sym + np.random.uniform(-rc, rc, size=sym.shape)*eps\n",
    "                    for _ in range(num_envs)])\n",
    "    F = np.stack([a.mean(axis=0) for a in xyz])\n",
    "    return sym, xyz, F\n",
    "\n",
    "\n",
    "lmax, nmax, rc = 4, 4, 3.\n",
    "soap = SeSoap(lmax, nmax, radial(rc))\n",
    "sym, data, _ = _data(100, rc, 0.1)\n",
    "model = LeastSQ(data, soap, 1)\n",
    "loss = model.forward()"
   ]
  },
  {
   "cell_type": "code",
   "execution_count": 3,
   "metadata": {
    "ExecuteTime": {
     "end_time": "2019-03-26T07:40:24.602963Z",
     "start_time": "2019-03-26T07:40:24.568645Z"
    }
   },
   "outputs": [],
   "source": [
    "loss.backward()"
   ]
  },
  {
   "cell_type": "code",
   "execution_count": 4,
   "metadata": {
    "ExecuteTime": {
     "end_time": "2019-03-26T07:40:25.134182Z",
     "start_time": "2019-03-26T07:40:24.606044Z"
    }
   },
   "outputs": [
    {
     "name": "stdout",
     "output_type": "stream",
     "text": [
      "100\n",
      "200\n"
     ]
    }
   ],
   "source": [
    "optimizer = torch.optim.Adam(model.parameters(), lr=0.1)\n",
    "training = []\n",
    "for i in range(2):\n",
    "    for _ in range(100):\n",
    "        def closure():\n",
    "            global training\n",
    "            optimizer.zero_grad()\n",
    "            loss = model.forward()\n",
    "            loss.backward() \n",
    "            training += [loss.data]\n",
    "            return loss\n",
    "        optimizer.step(closure)\n",
    "    print((i+1)*100)"
   ]
  },
  {
   "cell_type": "code",
   "execution_count": 5,
   "metadata": {
    "ExecuteTime": {
     "end_time": "2019-03-26T07:40:25.430785Z",
     "start_time": "2019-03-26T07:40:25.135732Z"
    }
   },
   "outputs": [
    {
     "data": {
      "text/plain": [
       "[<matplotlib.lines.Line2D at 0x7fe10c7f2630>]"
      ]
     },
     "execution_count": 5,
     "metadata": {},
     "output_type": "execute_result"
    },
    {
     "data": {
      "image/png": "[encoded data removed]",
      "text/plain": [
       "<Figure size 432x288 with 1 Axes>"
      ]
     },
     "metadata": {
      "needs_background": "light"
     },
     "output_type": "display_data"
    }
   ],
   "source": [
    "import pylab as plt\n",
    "%matplotlib inline\n",
    "plt.plot(training)"
   ]
  },
  {
   "cell_type": "code",
   "execution_count": 6,
   "metadata": {
    "ExecuteTime": {
     "end_time": "2019-03-26T07:40:25.437786Z",
     "start_time": "2019-03-26T07:40:25.432095Z"
    }
   },
   "outputs": [
    {
     "name": "stdout",
     "output_type": "stream",
     "text": [
      "tensor([[ 2.2500, -2.2500,  0.0000,  0.0000,  0.0000,  0.0000],\n",
      "        [-2.2500,  2.2500,  0.0000,  0.0000,  0.0000,  0.0000],\n",
      "        [ 0.0000,  0.0000,  2.2500, -2.2500,  0.0000,  0.0000],\n",
      "        [ 0.0000,  0.0000, -2.2500,  2.2500,  0.0000,  0.0000],\n",
      "        [ 0.0000,  0.0000,  0.0000,  0.0000,  2.2500, -2.2500],\n",
      "        [ 0.0000,  0.0000,  0.0000,  0.0000, -2.2500,  2.2500]],\n",
      "       dtype=torch.float64)\n",
      "tensor([[ 2.3159, -1.7057,  0.2056,  0.2626, -0.2910,  0.2143],\n",
      "        [-1.7057,  1.4269, -0.8778,  0.4220,  0.1050, -0.1109],\n",
      "        [ 0.2056, -0.8778,  3.1210, -2.6391,  0.2948, -0.0099],\n",
      "        [ 0.2626,  0.4220, -2.6391,  2.4145,  0.1298, -0.4648],\n",
      "        [-0.2910,  0.1050,  0.2948,  0.1298,  1.9838, -2.2766],\n",
      "        [ 0.2143, -0.1109, -0.0099, -0.4648, -2.2766,  2.6571]],\n",
      "       dtype=torch.float64, grad_fn=<AsStridedBackward>)\n"
     ]
    }
   ],
   "source": [
    "print(torch.einsum('ij,kj->ik', torch.tensor(sym), torch.tensor(sym)))\n",
    "print(torch.einsum('ij,kj->ik', model._Z[0], model._Z[0]))"
   ]
  },
  {
   "cell_type": "code",
   "execution_count": null,
   "metadata": {},
   "outputs": [],
   "source": []
  }
 ],
 "metadata": {
  "kernelspec": {
   "display_name": "Python 3",
   "language": "python",
   "name": "python3"
  },
  "language_info": {
   "codemirror_mode": {
    "name": "ipython",
    "version": 3
   },
   "file_extension": ".py",
   "mimetype": "text/x-python",
   "name": "python",
   "nbconvert_exporter": "python",
   "pygments_lexer": "ipython3",
   "version": "3.6.7"
  },
  "varInspector": {
   "cols": {
    "lenName": 16,
    "lenType": 16,
    "lenVar": 40
   },
   "kernels_config": {
    "python": {
     "delete_cmd_postfix": "",
     "delete_cmd_prefix": "del ",
     "library": "var_list.py",
     "varRefreshCmd": "print(var_dic_list())"
    },
    "r": {
     "delete_cmd_postfix": ") ",
     "delete_cmd_prefix": "rm(",
     "library": "var_list.r",
     "varRefreshCmd": "cat(var_dic_list()) "
    }
   },
   "types_to_exclude": [
    "module",
    "function",
    "builtin_function_or_method",
    "instance",
    "_Feature"
   ],
   "window_display": false
  }
 },
 "nbformat": 4,
 "nbformat_minor": 2
}
