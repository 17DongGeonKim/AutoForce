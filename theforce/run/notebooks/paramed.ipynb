{
 "cells": [
  {
   "cell_type": "code",
   "execution_count": null,
   "metadata": {},
   "outputs": [],
   "source": [
    "import torch\n",
    "from theforce.regression.scores import coeff_of_determination\n",
    "from theforce.calculator.parametric import get_coulomb_terms, get_lj_terms, load_parametric_potential\n",
    "import os\n",
    "\n",
    "\n",
    "def train_parametric_potential(data, cutoff=None, paramed_pot=None, chp='paramedpot.chp', use_chp=True,\n",
    "                               charges_setting={}, threshold=None, max_steps=100, lr=0.1):\n",
    "\n",
    "    # read\n",
    "    if paramed_pot == None and os.path.isfile(chp) and use_chp:\n",
    "        with open(chp) as file:\n",
    "            paramed_pot = load_parametric_potential(file.readlines()[-1])\n",
    "            print('paramed_pot read from {}'.format(chp))\n",
    "\n",
    "    # create\n",
    "    if paramed_pot is None:\n",
    "        numbers = data.numbers_set()\n",
    "        paramed_pot = (get_coulomb_terms(numbers, cutoff, setting=charges_setting)\n",
    "                       + get_lj_terms(numbers, cutoff))\n",
    "        paramed_pot.to_file(chp, flag='created')\n",
    "        print('paramed_pot created')\n",
    "\n",
    "    # threshold: train only on forces larger than a threshold\n",
    "    target = data.cat('target_forces')\n",
    "    f = target.pow(2).sum(dim=1).sqrt()\n",
    "    if threshold is None:\n",
    "        threshold = f.var().sqrt()\n",
    "    m = f > threshold\n",
    "\n",
    "    # training setup\n",
    "    def forces_loss(a, b):\n",
    "        return (a-b).pow(2).sum()\n",
    "    optimizer = torch.optim.RMSprop(paramed_pot.unique_params, lr=lr)\n",
    "\n",
    "    # train\n",
    "    losses = []\n",
    "    for _ in range(max_steps):\n",
    "        # step\n",
    "        optimizer.zero_grad()\n",
    "        pred = torch.cat([paramed_pot(atoms, forces=True)[1]\n",
    "                          for atoms in data])\n",
    "        loss = forces_loss(pred[m], target[m])\n",
    "        loss.backward()\n",
    "        optimizer.step()\n",
    "\n",
    "        cod_full = coeff_of_determination(pred, target)\n",
    "        cod_thresh = coeff_of_determination(pred[m], target[m]).data\n",
    "        print('{} loss: {}     R2 (full): {}     R2 (>thresh): {}'.format(\n",
    "            _, loss.data, cod_full.data, cod_thresh))\n",
    "\n",
    "        losses += [loss.data]\n",
    "        paramed_pot.to_file(chp, flag='step: {}   r2 on all forces: {}   r2 on large forces = {}'.format(\n",
    "            _, cod_full.data, cod_thresh.data))\n",
    "\n",
    "    return paramed_pot"
   ]
  }
 ],
 "metadata": {
  "kernelspec": {
   "display_name": "Python 3",
   "language": "python",
   "name": "python3"
  },
  "language_info": {
   "codemirror_mode": {
    "name": "ipython",
    "version": 3
   },
   "file_extension": ".py",
   "mimetype": "text/x-python",
   "name": "python",
   "nbconvert_exporter": "python",
   "pygments_lexer": "ipython3",
   "version": "3.6.9"
  }
 },
 "nbformat": 4,
 "nbformat_minor": 2
}
