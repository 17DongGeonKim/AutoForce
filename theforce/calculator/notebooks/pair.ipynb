{
 "cells": [
  {
   "cell_type": "code",
   "execution_count": null,
   "metadata": {},
   "outputs": [],
   "source": [
    "import numpy as np\n",
    "import torch\n",
    "from torch.nn import Module, Parameter\n",
    "\n",
    "\n",
    "class PairPotential(Module):\n",
    "\n",
    "    def __init__(self, a, b):\n",
    "        super().__init__()\n",
    "        self.a = a\n",
    "        self.b = b\n",
    "        if a == b:\n",
    "            self.double_count = 2\n",
    "        else:\n",
    "            self.double_count = 1\n",
    "\n",
    "    def forward(self, a, b, r):\n",
    "        if a != self.a:\n",
    "            return 0.0\n",
    "        else:\n",
    "            m = torch.as_tensor(b == self.b)\n",
    "            return self.energy(r[m]) / self.double_count\n",
    "\n",
    "    def energy(self):\n",
    "        raise NotImplementedError(\n",
    "            'energy shoud be implemented in a child class')\n",
    "\n",
    "\n",
    "class LJ(PairPotential):\n",
    "\n",
    "    def __init__(self, a, b, eps=1.0, sigma=1.0, rc=3.0):\n",
    "        super().__init__(a, b)\n",
    "        self.rc = rc\n",
    "        self.eps = eps\n",
    "        self.sigma = sigma\n",
    "        self.e0 = (sigma/rc)**12 - (sigma/rc)**6\n",
    "\n",
    "    def energy(self, r):\n",
    "        d2 = (r**2).sum(dim=-1)\n",
    "        x = self.sigma**2/d2[d2 < self.rc**2]\n",
    "        e = 4*(self.eps*(x**6 - x**3 - self.e0)).sum()\n",
    "        return e"
   ]
  }
 ],
 "metadata": {
  "kernelspec": {
   "display_name": "Python 3",
   "language": "python",
   "name": "python3"
  },
  "language_info": {
   "codemirror_mode": {
    "name": "ipython",
    "version": 3
   },
   "file_extension": ".py",
   "mimetype": "text/x-python",
   "name": "python",
   "nbconvert_exporter": "python",
   "pygments_lexer": "ipython3",
   "version": "3.6.7"
  }
 },
 "nbformat": 4,
 "nbformat_minor": 2
}
