{
 "cells": [
  {
   "cell_type": "code",
   "execution_count": null,
   "metadata": {},
   "outputs": [],
   "source": [
    "import numpy as np\n",
    "from ase.calculators.calculator import Calculator, all_changes\n",
    "import torch\n",
    "from torch.autograd import grad\n",
    "from theforce.util.util import iterable\n",
    "\n",
    "\n",
    "class PosteriorCalculator(Calculator):\n",
    "    implemented_properties = ['energy', 'forces']\n",
    "\n",
    "    def __init__(self, potentials, **kwargs):\n",
    "        Calculator.__init__(self, **kwargs)\n",
    "        self.potentials = iterable(potentials)\n",
    "\n",
    "    def calculate(self, atoms=None, properties=['energy'], system_changes=all_changes):\n",
    "        Calculator.calculate(self, atoms, properties, system_changes)\n",
    "\n",
    "        self.atoms.xyz.requires_grad = False\n",
    "        if 'numbers' in system_changes:\n",
    "            self.atoms.build_loc(self.atoms.loc.rc)\n",
    "        self.atoms.update()\n",
    "        energy = torch.stack([pot([self.atoms], 'energy') for pot in\n",
    "                              self.potentials]).sum(dim=0)\n",
    "        forces = torch.stack([pot([self.atoms], 'forces') for pot in\n",
    "                              self.potentials]).sum(dim=0)\n",
    "        self.results['energy'] = energy.detach().numpy()[0]\n",
    "        self.results['forces'] = forces.detach().numpy()"
   ]
  }
 ],
 "metadata": {
  "kernelspec": {
   "display_name": "Python 3",
   "language": "python",
   "name": "python3"
  },
  "language_info": {
   "codemirror_mode": {
    "name": "ipython",
    "version": 3
   },
   "file_extension": ".py",
   "mimetype": "text/x-python",
   "name": "python",
   "nbconvert_exporter": "python",
   "pygments_lexer": "ipython3",
   "version": "3.6.7"
  }
 },
 "nbformat": 4,
 "nbformat_minor": 2
}
