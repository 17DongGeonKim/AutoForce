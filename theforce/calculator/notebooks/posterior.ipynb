{
 "cells": [
  {
   "cell_type": "code",
   "execution_count": null,
   "metadata": {},
   "outputs": [],
   "source": [
    "import numpy as np\n",
    "from ase.calculators.calculator import Calculator, all_changes\n",
    "import torch\n",
    "from torch.autograd import grad\n",
    "from theforce.util.util import iterable\n",
    "import warnings\n",
    "\n",
    "\n",
    "class PosteriorCalculator(Calculator):\n",
    "    implemented_properties = ['energy', 'forces', 'free_energy']\n",
    "\n",
    "    def __init__(self, potentials, **kwargs):\n",
    "        Calculator.__init__(self, **kwargs)\n",
    "        self.potentials = iterable(potentials)\n",
    "\n",
    "    def calculate(self, atoms=None, properties=['energy'], system_changes=all_changes):\n",
    "        Calculator.calculate(self, atoms, properties, system_changes)\n",
    "        self.atoms.update()\n",
    "        energy = torch.stack([pot([self.atoms], 'energy') for pot in\n",
    "                              self.potentials]).sum(dim=0)\n",
    "        forces = torch.stack([pot([self.atoms], 'forces') for pot in\n",
    "                              self.potentials]).sum(dim=0)\n",
    "        self.results['energy'] = energy.detach().numpy()[0]\n",
    "        self.results['forces'] = forces.detach().numpy()\n",
    "        # NOTE: check if this is correct!\n",
    "        self.results['free_energy'] = self.results['energy']\n",
    "\n",
    "\n",
    "class PosteriorStressCalculator(Calculator):\n",
    "    implemented_properties = ['energy', 'forces', 'free_energy', 'stress']\n",
    "\n",
    "    def __init__(self, potentials, **kwargs):\n",
    "        Calculator.__init__(self, **kwargs)\n",
    "        self.potentials = iterable(potentials)\n",
    "        warnings.warn('Stress is not mathematically worked out yet')\n",
    "\n",
    "    def calculate(self, atoms=None, properties=['energy'], system_changes=all_changes):\n",
    "        Calculator.calculate(self, atoms, properties, system_changes)\n",
    "        self.atoms.update(cellgrad=True, forced=True)\n",
    "        energy = torch.stack([pot([self.atoms], 'energy', enable_grad=True) for pot in\n",
    "                              self.potentials]).sum(dim=0)\n",
    "        forces = torch.stack([pot([self.atoms], 'forces') for pot in\n",
    "                              self.potentials]).sum(dim=0)\n",
    "\n",
    "        # stress\n",
    "        stress1 = (forces[:, None]*self.atoms.xyz[..., None]).sum(dim=0)*0\n",
    "        cellgrad, = grad(energy, self.atoms.lll)\n",
    "        stress2 = (cellgrad[:, None]*self.atoms.lll[..., None]).sum(dim=0)\n",
    "        stress = 0.5*(stress1 + stress1.t() + stress2 + stress2.t()\n",
    "                      ).detach().numpy() / self.atoms.get_volume()\n",
    "\n",
    "        self.results['energy'] = energy.detach().numpy()[0]\n",
    "        self.results['forces'] = forces.detach().numpy()\n",
    "        self.results['free_energy'] = self.results['energy']\n",
    "        self.results['stress'] = stress.flat[[0, 4, 8, 5, 2, 1]]"
   ]
  }
 ],
 "metadata": {
  "kernelspec": {
   "display_name": "Python 3",
   "language": "python",
   "name": "python3"
  },
  "language_info": {
   "codemirror_mode": {
    "name": "ipython",
    "version": 3
   },
   "file_extension": ".py",
   "mimetype": "text/x-python",
   "name": "python",
   "nbconvert_exporter": "python",
   "pygments_lexer": "ipython3",
   "version": "3.6.7"
  }
 },
 "nbformat": 4,
 "nbformat_minor": 2
}
