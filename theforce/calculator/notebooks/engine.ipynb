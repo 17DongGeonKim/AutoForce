{
 "cells": [
  {
   "cell_type": "code",
   "execution_count": null,
   "metadata": {},
   "outputs": [],
   "source": [
    "import numpy as np\n",
    "from ase.neighborlist import NeighborList\n",
    "from ase.calculators.calculator import Calculator, all_changes\n",
    "#from ase.calculators.calculator import PropertyNotImplementedError\n",
    "import torch\n",
    "from torch.autograd import grad\n",
    "from theforce.util.util import iterable\n",
    "\n",
    "\n",
    "class Engine(Calculator):\n",
    "    implemented_properties = ['energy', 'forces']\n",
    "    default_parameters = {'rc': None}\n",
    "\n",
    "    def __init__(self, terms=None, ** kwargs):\n",
    "        Calculator.__init__(self, **kwargs)\n",
    "        if self.parameters.rc is None:\n",
    "            raise NotImplementedError('pass a cutoff!')\n",
    "        self.terms = iterable(terms)\n",
    "\n",
    "    def calculate(self, atoms=None, properties=['energy'], system_changes=all_changes):\n",
    "        Calculator.calculate(self, atoms, properties, system_changes)\n",
    "\n",
    "        natoms = len(self.atoms)\n",
    "        if 'numbers' in system_changes:\n",
    "            rc = self.parameters.rc\n",
    "            self.nl = NeighborList([rc / 2] * natoms, self_interaction=False,\n",
    "                                   bothways=True)\n",
    "        self.nl.update(self.atoms)\n",
    "\n",
    "        xyz = torch.tensor(self.atoms.positions, requires_grad=True)\n",
    "        nums = self.atoms.numbers\n",
    "        cell = self.atoms.cell\n",
    "        energy = 0.0\n",
    "        for a in range(natoms):\n",
    "            neighbors, offsets = self.nl.get_neighbors(a)\n",
    "            cells = torch.from_numpy(np.dot(offsets, cell))\n",
    "            r = xyz[neighbors] + cells - xyz[a]\n",
    "            energy = energy + sum([pot(nums[a], nums[neighbors], r)\n",
    "                                   for pot in self.terms])\n",
    "        forces, = grad(energy, xyz)\n",
    "\n",
    "        self.results['energy'] = energy.detach().numpy()\n",
    "        self.results['forces'] = forces.detach().numpy()"
   ]
  }
 ],
 "metadata": {
  "kernelspec": {
   "display_name": "Python 3",
   "language": "python",
   "name": "python3"
  },
  "language_info": {
   "codemirror_mode": {
    "name": "ipython",
    "version": 3
   },
   "file_extension": ".py",
   "mimetype": "text/x-python",
   "name": "python",
   "nbconvert_exporter": "python",
   "pygments_lexer": "ipython3",
   "version": "3.6.7"
  }
 },
 "nbformat": 4,
 "nbformat_minor": 2
}
