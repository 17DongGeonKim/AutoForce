{
 "cells": [
  {
   "cell_type": "code",
   "execution_count": 1,
   "metadata": {},
   "outputs": [],
   "source": [
    "import numpy as np\n",
    "\n",
    "\n",
    "def cart_to_angles( x, y, z ):\n",
    "    rxy_sq = x*x + y*y\n",
    "    r      = np.sqrt( rxy_sq + z*z )\n",
    "    theta  = np.arctan2( np.sqrt(rxy_sq), z )\n",
    "    phi    = np.arctan2( y, x )\n",
    "    return r, theta, phi\n",
    "\n",
    "\n",
    "def cart_to_sph( self, x, y, z ):\n",
    "    rxy_sq    = x*x + y*y \n",
    "    rxy       = np.sqrt( rxy_sq ) + self.tiny\n",
    "    r_sq      = rxy_sq + z*z\n",
    "    r         = np.sqrt( r_sq )\n",
    "    sin_theta = rxy/r\n",
    "    cos_theta = z/r\n",
    "    sin_phi   = y/rxy\n",
    "    cos_phi   = x/rxy\n",
    "    return r, sin_theta, cos_theta, sin_phi, cos_phi\n",
    "\n",
    "\n",
    "def angles_to_cart( r, theta, phi ):\n",
    "    x = r * np.sin( theta ) * np.cos( phi )\n",
    "    y = r * np.sin( theta ) * np.sin( phi )\n",
    "    z = r * np.cos( theta )\n",
    "    return x, y ,z\n",
    "\n",
    "\n",
    "def sph_to_cart( sin_theta, cos_theta, sin_phi, cos_phi, F_r, F_theta, F_phi ):\n",
    "    F_x = sin_theta * cos_phi * F_r + cos_theta * cos_phi * F_theta - sin_phi * F_phi\n",
    "    F_y = sin_theta * sin_phi * F_r + cos_theta * sin_phi * F_theta + cos_phi * F_phi\n",
    "    F_z = cos_theta * F_r - sin_theta * F_theta\n",
    "    return F_x, F_y, F_z\n"
   ]
  }
 ],
 "metadata": {
  "kernelspec": {
   "display_name": "Python 3",
   "language": "python",
   "name": "python3"
  },
  "language_info": {
   "codemirror_mode": {
    "name": "ipython",
    "version": 3
   },
   "file_extension": ".py",
   "mimetype": "text/x-python",
   "name": "python",
   "nbconvert_exporter": "python",
   "pygments_lexer": "ipython3",
   "version": "3.6.7"
  }
 },
 "nbformat": 4,
 "nbformat_minor": 2
}
