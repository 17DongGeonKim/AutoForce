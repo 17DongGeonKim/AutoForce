{
 "cells": [
  {
   "cell_type": "code",
   "execution_count": null,
   "metadata": {},
   "outputs": [],
   "source": [
    "import numpy as np\n",
    "from ase.neighborlist import NeighborList, NewPrimitiveNeighborList\n",
    "\n",
    "\n",
    "class AtomsSoap:\n",
    "    \"\"\" connects the sesoap descriptor and the popular ase.Atoms object \"\"\"\n",
    "\n",
    "    def __init__(self, soap):\n",
    "        \"\"\" \n",
    "        Cutoff is the only parameter this needs.\n",
    "        It will use soap.rc as cutoff.\n",
    "        \"\"\"\n",
    "        self.soap = soap\n",
    "        self.neighbors = NeighborList(soap.rc, skin=0.0, self_interaction=False,\n",
    "                                      bothways=True, primitive=NewPrimitiveNeighborList)\n",
    "\n",
    "    def descriptors(self, atoms, sumj=True):\n",
    "        \"\"\" \n",
    "        Inputs: ase Atoms object\n",
    "        Returns: p, q, pairs\n",
    "        p: descripter vector which is per-atom.\n",
    "        q: derivatives of p wrt coordinates of atoms, which is per-atom if \n",
    "        sumj is True, per-pair if sumj is False.\n",
    "        --------------------------------------------------------------------\n",
    "        If sumj is False, q[k,l,m] is a sparse matrix where k refers to k'th \n",
    "        pair (in pairs), l counts the dimension of the descriptor, and m counts \n",
    "        3D Cartesian axes.\n",
    "        If sumj is True, the only difference is that k counts the atoms.\n",
    "        ------------------------------------------------------------------\n",
    "        Notice that when sumj=False, q is a sparse matrix.\n",
    "        Otherwise all arrays are full (zeros will be passed if no atoms are\n",
    "        present in env).\n",
    "        Thus p, pairs will be the same either way.\n",
    "        \"\"\"\n",
    "        self.neighbors.update(atoms)\n",
    "        n = atoms.get_number_of_atoms()\n",
    "        _p = []\n",
    "        _q = []\n",
    "        pairs = []\n",
    "        for k in range(n):\n",
    "            indices, offsets = self.neighbors.get_neighbors(k)\n",
    "            if indices.shape[0] > 0:\n",
    "                env = atoms.positions[indices] + \\\n",
    "                    np.einsum('ik,kj->ij', offsets, atoms.cell) - \\\n",
    "                    atoms.positions[k]\n",
    "                a, b = self.soap.derivatives(env, sumj=sumj)\n",
    "                _p += [a]\n",
    "                _q += [b]\n",
    "                pairs += [(k, j) for j in indices]\n",
    "            else:\n",
    "                _p += [np.zeros(shape=self.soap.dim)]\n",
    "                if sumj:\n",
    "                    _q += [np.zeros(shape=(self.soap.dim, 3))]\n",
    "        p = np.asarray(_p)\n",
    "        if sumj:\n",
    "            q = np.asarray(_q)\n",
    "        elif len(_q) > 0:\n",
    "            q = np.transpose(np.concatenate(_q, axis=1), axes=[1, 0, 2])\n",
    "        else:\n",
    "            q = np.array([])\n",
    "        return p, q, pairs"
   ]
  }
 ],
 "metadata": {
  "kernelspec": {
   "display_name": "Python 3",
   "language": "python",
   "name": "python3"
  },
  "language_info": {
   "codemirror_mode": {
    "name": "ipython",
    "version": 3
   },
   "file_extension": ".py",
   "mimetype": "text/x-python",
   "name": "python",
   "nbconvert_exporter": "python",
   "pygments_lexer": "ipython3",
   "version": "3.6.7"
  },
  "varInspector": {
   "cols": {
    "lenName": 16,
    "lenType": 16,
    "lenVar": 40
   },
   "kernels_config": {
    "python": {
     "delete_cmd_postfix": "",
     "delete_cmd_prefix": "del ",
     "library": "var_list.py",
     "varRefreshCmd": "print(var_dic_list())"
    },
    "r": {
     "delete_cmd_postfix": ") ",
     "delete_cmd_prefix": "rm(",
     "library": "var_list.r",
     "varRefreshCmd": "cat(var_dic_list()) "
    }
   },
   "types_to_exclude": [
    "module",
    "function",
    "builtin_function_or_method",
    "instance",
    "_Feature"
   ],
   "window_display": false
  }
 },
 "nbformat": 4,
 "nbformat_minor": 2
}
