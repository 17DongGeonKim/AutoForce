{
 "cells": [
  {
   "cell_type": "code",
   "execution_count": null,
   "metadata": {},
   "outputs": [],
   "source": [
    "import numpy as np\n",
    "from ase import neighborlist\n",
    "\n",
    "\n",
    "def atoms_cartesian_envs(atoms, cutoff, random=None):\n",
    "    \"\"\" \n",
    "    atoms:     ase atoms object\n",
    "    cutoff:    cutoff radius\n",
    "    random:    if random=int(k), k atoms will be chosen randomly\n",
    "    Returns:   data\n",
    "    --------------------------\n",
    "    usage:\n",
    "    for z1, z2, d, f in data: ...\n",
    "    \"\"\"\n",
    "    I, J, D = neighborlist.neighbor_list('ijD', atoms, cutoff)\n",
    "    crd = np.bincount(I)\n",
    "    idx = np.cumsum(crd)[:-1]\n",
    "    #i   = np.split(I,idx)\n",
    "    j = np.split(J, idx)\n",
    "    d = np.split(D, idx)\n",
    "    z = atoms.get_atomic_numbers()\n",
    "    f = atoms.get_forces()\n",
    "    na = len(atoms)\n",
    "    if random is not None:\n",
    "        c = np.random.choice(range(na), random)\n",
    "    else:\n",
    "        c = range(na)\n",
    "    return [(z[k], z[j[k]], d[k], f[k]) for k in c]"
   ]
  }
 ],
 "metadata": {
  "kernelspec": {
   "display_name": "Python 3",
   "language": "python",
   "name": "python3"
  },
  "language_info": {
   "codemirror_mode": {
    "name": "ipython",
    "version": 3
   },
   "file_extension": ".py",
   "mimetype": "text/x-python",
   "name": "python",
   "nbconvert_exporter": "python",
   "pygments_lexer": "ipython3",
   "version": "3.6.7"
  },
  "varInspector": {
   "cols": {
    "lenName": 16,
    "lenType": 16,
    "lenVar": 40
   },
   "kernels_config": {
    "python": {
     "delete_cmd_postfix": "",
     "delete_cmd_prefix": "del ",
     "library": "var_list.py",
     "varRefreshCmd": "print(var_dic_list())"
    },
    "r": {
     "delete_cmd_postfix": ") ",
     "delete_cmd_prefix": "rm(",
     "library": "var_list.r",
     "varRefreshCmd": "cat(var_dic_list()) "
    }
   },
   "types_to_exclude": [
    "module",
    "function",
    "builtin_function_or_method",
    "instance",
    "_Feature"
   ],
   "window_display": false
  }
 },
 "nbformat": 4,
 "nbformat_minor": 2
}
