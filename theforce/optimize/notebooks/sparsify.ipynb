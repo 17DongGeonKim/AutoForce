{
 "cells": [
  {
   "cell_type": "code",
   "execution_count": null,
   "metadata": {},
   "outputs": [],
   "source": [
    "from theforce.descriptor.atoms import TorchAtoms, AtomsData, LocalsData\n",
    "from theforce.regression.gppotential import EnergyForceKernel\n",
    "from theforce.similarity.soap import SoapKernel\n",
    "from theforce.math.cutoff import PolyCut\n",
    "from theforce.regression.kernel import Positive, DotProd, Normed\n",
    "\n",
    "\n",
    "class SparseSampler:\n",
    "\n",
    "    def __init__(self, cutoff, numbers, atomic_unit=None, lmax=2, nmax=2, exponent=4):\n",
    "        self.cutoff = cutoff\n",
    "        self.kern = EnergyForceKernel([SoapKernel(Positive(1.0)*Normed(DotProd()**exponent),\n",
    "                                                  atomic_number, numbers, lmax, nmax,\n",
    "                                                  PolyCut(cutoff), atomic_unit=atomic_unit)\n",
    "                                       for atomic_number in numbers])\n",
    "        for i, k in enumerate(self.kern.kernels):\n",
    "            k.name = 'ss_{}'.format(i)\n",
    "        self.sparse = None\n",
    "\n",
    "    def load(self, trajname):\n",
    "        locs = LocalsData(traj=trajname)\n",
    "        locs.stage(self.kern.kernels)\n",
    "        if self.sparse is None:\n",
    "            self.sparse = locs\n",
    "        else:\n",
    "            self.sparse += locs\n",
    "\n",
    "    def sample_from_atoms(self, atoms, tol=0.01):\n",
    "        if self.sparse is None:\n",
    "            self.sparse = LocalsData(X=[atoms[0]])\n",
    "        for loc in atoms:\n",
    "            if (self.kern(loc, self.sparse) > 1.-tol).any():\n",
    "                continue\n",
    "            else:\n",
    "                self.sparse += loc\n",
    "\n",
    "    def sample_from_data(self, data, tol=0.01):\n",
    "        if self.sparse is None:\n",
    "            self.sparse = LocalsData(X=[data[0][0]])\n",
    "        for atoms in data:\n",
    "            for loc in atoms:\n",
    "                if (self.kern(loc, self.sparse) > 1.-tol).any():\n",
    "                    continue\n",
    "                else:\n",
    "                    self.sparse += loc\n",
    "\n",
    "    def sample_from_file(self, traj, tol=0.01):\n",
    "        data = AtomsData(traj=traj, cutoff=cutoff,\n",
    "                         descriptor=self.kern.kernels)\n",
    "        self.sample_from_data(data, tol=tol)\n",
    "\n",
    "    def to_traj(self, trajname, mode='w'):\n",
    "        self.sparse.to_traj(trajname, mode=mode)"
   ]
  }
 ],
 "metadata": {
  "kernelspec": {
   "display_name": "Python 3",
   "language": "python",
   "name": "python3"
  },
  "language_info": {
   "codemirror_mode": {
    "name": "ipython",
    "version": 3
   },
   "file_extension": ".py",
   "mimetype": "text/x-python",
   "name": "python",
   "nbconvert_exporter": "python",
   "pygments_lexer": "ipython3",
   "version": "3.6.7"
  }
 },
 "nbformat": 4,
 "nbformat_minor": 2
}
