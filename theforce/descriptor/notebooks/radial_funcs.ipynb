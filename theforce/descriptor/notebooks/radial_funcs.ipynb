{
 "cells": [
  {
   "cell_type": "code",
   "execution_count": null,
   "metadata": {},
   "outputs": [],
   "source": [
    "import numpy as np\n",
    "\n",
    "\n",
    "class constant:\n",
    "\n",
    "    def __init__(self, rc):\n",
    "        \"\"\" rc \"\"\"\n",
    "        self.rc = rc\n",
    "\n",
    "    def radial(self, r):\n",
    "        return self.rc, 0\n",
    "\n",
    "\n",
    "class gaussian:\n",
    "\n",
    "    def __init__(self, rc):\n",
    "        \"\"\" exp( - r^2 / 2 rc^2 ) \"\"\"\n",
    "        self.rc = rc\n",
    "\n",
    "    def radial(self, r):\n",
    "        x = -r / self.rc**2\n",
    "        y = np.exp(x*r/2)\n",
    "        return y, x*y\n",
    "\n",
    "\n",
    "class cosine_cutoff:\n",
    "\n",
    "    def __init__(self, rc):\n",
    "        \"\"\" ( 1 + cos( pi * r / rc ) ) / 2 \"\"\"\n",
    "        self.rc = rc\n",
    "\n",
    "    def radial(self, r):\n",
    "        x = np.pi * r / self.rc\n",
    "        y = (1 + np.cos(x)) / 2\n",
    "        outlier = r >= self.rc\n",
    "        y[outlier] = 0.0\n",
    "        dy = - np.pi * np.sin(x) / (2*self.rc)\n",
    "        dy[outlier] = 0.0\n",
    "        return y, dy\n",
    "\n",
    "\n",
    "class quadratic_cutoff:\n",
    "\n",
    "    def __init__(self, rc):\n",
    "        \"\"\" ( 1 - r / r_c )^2 \"\"\"\n",
    "        self.rc = rc\n",
    "\n",
    "    def radial(self, r):\n",
    "        x = 1. - r/self.rc\n",
    "        x[x < 0.0] = 0.0\n",
    "        return x*x, -2*x/self.rc\n",
    "\n",
    "\n",
    "class poly_cutoff:\n",
    "\n",
    "    def __init__(self, rc, n):\n",
    "        \"\"\" ( 1 - r / r_c )^n \"\"\"\n",
    "        self.rc = rc\n",
    "        self.n = n\n",
    "        self.n_ = n - 1\n",
    "\n",
    "    def radial(self, r):\n",
    "        x = 1. - r/self.rc\n",
    "        x[x < 0.0] = 0.0\n",
    "        y = x**(self.n_)\n",
    "        return x*y, -self.n*y/self.rc"
   ]
  }
 ],
 "metadata": {
  "kernelspec": {
   "display_name": "Python 3",
   "language": "python",
   "name": "python3"
  },
  "language_info": {
   "codemirror_mode": {
    "name": "ipython",
    "version": 3
   },
   "file_extension": ".py",
   "mimetype": "text/x-python",
   "name": "python",
   "nbconvert_exporter": "python",
   "pygments_lexer": "ipython3",
   "version": "3.6.7"
  },
  "varInspector": {
   "cols": {
    "lenName": 16,
    "lenType": 16,
    "lenVar": 40
   },
   "kernels_config": {
    "python": {
     "delete_cmd_postfix": "",
     "delete_cmd_prefix": "del ",
     "library": "var_list.py",
     "varRefreshCmd": "print(var_dic_list())"
    },
    "r": {
     "delete_cmd_postfix": ") ",
     "delete_cmd_prefix": "rm(",
     "library": "var_list.r",
     "varRefreshCmd": "cat(var_dic_list()) "
    }
   },
   "types_to_exclude": [
    "module",
    "function",
    "builtin_function_or_method",
    "instance",
    "_Feature"
   ],
   "window_display": false
  }
 },
 "nbformat": 4,
 "nbformat_minor": 2
}
