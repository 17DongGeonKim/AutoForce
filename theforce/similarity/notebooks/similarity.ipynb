{
 "cells": [
  {
   "cell_type": "code",
   "execution_count": null,
   "metadata": {},
   "outputs": [],
   "source": [
    "import torch\n",
    "from torch.nn import Module\n",
    "\n",
    "\n",
    "def iterable(a):\n",
    "    if hasattr(a, '__iter__'):\n",
    "        return a\n",
    "    else:\n",
    "        return (a, )\n",
    "\n",
    "\n",
    "class SimilarityKernel(Module):\n",
    "\n",
    "    def __init__(self, kernel):\n",
    "        super().__init__()\n",
    "        self.kern = kernel\n",
    "        self.params = kernel.params\n",
    "\n",
    "    def forward(self, first, second, operation='func'):\n",
    "        return torch.cat([torch.cat([getattr(self, operation)(a, b) for a in iterable(first)], dim=0\n",
    "                                    ) for b in iterable(second)], dim=1)\n",
    "\n",
    "\n",
    "class PairSimilarity(SimilarityKernel):\n",
    "\n",
    "    def __init__(self, kernel):\n",
    "        super().__init__(kernel)\n",
    "\n",
    "    def func(self, first, second):\n",
    "        return 0.25 * self.kern(first.d, second.d).sum().view(1, 1)\n",
    "\n",
    "    def leftgrad(self, first, second):\n",
    "        return -0.5 * torch.zeros(first.natoms, 3).index_add(0, first.i,\n",
    "                                                             (self.kern.leftgrad(first.d, second.d)[:, None]\n",
    "                                                              * first.dr[..., None]).sum(dim=-1)\n",
    "                                                             ).reshape(first.natoms*3, 1)\n",
    "\n",
    "    def rightgrad(self, first, second):\n",
    "        return -0.5 * torch.zeros(second.natoms, 3).index_add(0, second.i,\n",
    "                                                              (self.kern.rightgrad(first.d, second.d)[..., None]\n",
    "                                                               * second.dr).sum(dim=0)\n",
    "                                                              ).reshape(1, second.natoms*3)\n",
    "\n",
    "    def gradgrad(self, first, second):\n",
    "        return torch.zeros(first.natoms, second.natoms, 3, 3\n",
    "                           ).index_add(1, second.i, torch.zeros(first.natoms, second.i.size(0), 3, 3\n",
    "                                                                ).index_add(0, first.i,\n",
    "                                                                            (first.dr[:, None, :, None]\n",
    "                                                                             * second.dr[None, :, None, :]\n",
    "                                                                             * self.kern.gradgrad(\n",
    "                                                                                 first.d, second.d)\n",
    "                                                                             [..., None, None])\n",
    "                                                                            )\n",
    "                                       ).permute(0, 2, 1, 3).reshape(first.natoms*3, second.natoms*3)"
   ]
  }
 ],
 "metadata": {
  "kernelspec": {
   "display_name": "Python 3",
   "language": "python",
   "name": "python3"
  },
  "language_info": {
   "codemirror_mode": {
    "name": "ipython",
    "version": 3
   },
   "file_extension": ".py",
   "mimetype": "text/x-python",
   "name": "python",
   "nbconvert_exporter": "python",
   "pygments_lexer": "ipython3",
   "version": "3.6.7"
  }
 },
 "nbformat": 4,
 "nbformat_minor": 2
}
