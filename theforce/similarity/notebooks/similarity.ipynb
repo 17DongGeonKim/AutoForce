{
 "cells": [
  {
   "cell_type": "code",
   "execution_count": null,
   "metadata": {},
   "outputs": [],
   "source": [
    "from torch.nn import Module\n",
    "from torch import cat\n",
    "from theforce.regression.gp import Covariance\n",
    "from theforce.util.util import iterable\n",
    "\n",
    "\n",
    "class SimilarityKernel(Module):\n",
    "\n",
    "    def __init__(self, kernels):\n",
    "        super().__init__()\n",
    "        self.kern = Covariance(kernels)\n",
    "        self.params = self.kern.params\n",
    "\n",
    "    def forward(self, first, second, operation='func'):\n",
    "        return cat([cat([getattr(self, operation)(a, b) for a in iterable(first)], dim=0\n",
    "                        ) for b in iterable(second)], dim=1)\n",
    "\n",
    "    def diag(self, first, operation='func'):\n",
    "        return cat([getattr(self, operation+'diag')(a) for a in iterable(first)])\n",
    "\n",
    "    def funcdiag(self, first):\n",
    "        return self.func(first, first).view(1)\n",
    "\n",
    "    def func(self, p, q):\n",
    "        raise NotImplementedError('func!')\n",
    "\n",
    "    def leftgrad(self, p, q):\n",
    "        raise NotImplementedError('leftgrad!')\n",
    "\n",
    "    def rightgrad(self, p, q):\n",
    "        raise NotImplementedError('rightgrad!')\n",
    "\n",
    "    def gradgrad(self, p, q):\n",
    "        raise NotImplementedError('gradgrad!')\n",
    "\n",
    "    def gradgraddiag(self, p):\n",
    "        raise NotImplementedError('gradgraddiag!')"
   ]
  }
 ],
 "metadata": {
  "kernelspec": {
   "display_name": "Python 3",
   "language": "python",
   "name": "python3"
  },
  "language_info": {
   "codemirror_mode": {
    "name": "ipython",
    "version": 3
   },
   "file_extension": ".py",
   "mimetype": "text/x-python",
   "name": "python",
   "nbconvert_exporter": "python",
   "pygments_lexer": "ipython3",
   "version": "3.6.7"
  }
 },
 "nbformat": 4,
 "nbformat_minor": 2
}
